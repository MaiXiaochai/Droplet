{
 "cells": [
  {
   "cell_type": "markdown",
   "metadata": {},
   "source": [
    "### SqlAlchemy"
   ]
  },
  {
   "cell_type": "code",
   "execution_count": 23,
   "metadata": {
    "ExecuteTime": {
     "end_time": "2018-07-05T07:19:11.333086Z",
     "start_time": "2018-07-05T07:19:11.328098Z"
    },
    "scrolled": true
   },
   "outputs": [
    {
     "name": "stdout",
     "output_type": "stream",
     "text": [
      "Overwriting sqlalchemy_test.py\n"
     ]
    }
   ],
   "source": [
    "# -*- coding:utf-8 -*-\n",
    "\n",
    "import toml\n",
    "import sqlalchemy\n",
    "from sqlalchemy import create_engine,Table,MetaData,ForeignKey, Column, String,Integer\n",
    "from sqlalchemy.ext.declarative import declarative_base\n",
    "from sqlalchemy.orm import sessionmaker, mapper\n",
    "\n",
    "\n",
    "class MyORM(object):\n",
    "    def __init__(conf_path):\n",
    "    # 导入配置信息\n",
    "    conf = toml.load(conf_path, _dict=dict)\n",
    "    dsn = 'oracle://' + conf.get('oracle').get('test_dsn')\n",
    "    self.engine = create_engine('{}'.format(dsn))\n",
    "\n",
    "    \n",
    "Base = declarative_base()\n",
    "\n",
    "\n",
    "class TestA(Base):\n",
    "    __tablename__ = 'test_a'\n",
    "    id = Column(Integer)\n",
    "    name = Column(String(100))\n",
    "    counter = Column(Integer(10))\n",
    "    sdate = Column()\n",
    "    \n",
    "# conn = engine.connect()\n",
    "# res = conn.execute(\"select * from test_a\")\n",
    "# for i in res:\n",
    "#     print(i)\n",
    "\n",
    "\n",
    "CONF_PATH = './config.toml'"
   ]
  },
  {
   "cell_type": "code",
   "execution_count": 1,
   "metadata": {
    "ExecuteTime": {
     "end_time": "2018-07-09T03:31:40.813117Z",
     "start_time": "2018-07-09T03:31:40.798126Z"
    }
   },
   "outputs": [
    {
     "name": "stdout",
     "output_type": "stream",
     "text": [
      "oracle_qad\n"
     ]
    },
    {
     "data": {
      "text/plain": [
       "2.0"
      ]
     },
     "execution_count": 1,
     "metadata": {},
     "output_type": "execute_result"
    }
   ],
   "source": [
    "tbl_type = 'qad'\n",
    "config_type = 'oracle' + (\"_\" + tbl_type.lower() if tbl_type is not None else '')\n",
    "print(config_type)\n",
    "2097152 /1024 /1024"
   ]
  },
  {
   "cell_type": "code",
   "execution_count": 23,
   "metadata": {
    "ExecuteTime": {
     "end_time": "2018-07-10T01:05:09.203403Z",
     "start_time": "2018-07-10T01:05:09.199388Z"
    }
   },
   "outputs": [
    {
     "name": "stdout",
     "output_type": "stream",
     "text": [
      ":\\gitcode\\Droplet\\mynotebook\\script\n"
     ]
    }
   ],
   "source": [
    "import os\n",
    "res = os.getcwd()\n",
    "path = './script'\n",
    "win_path = os.getcwd() + path.replace('./', '\\\\')\n",
    "print(win_path[1:])"
   ]
  },
  {
   "cell_type": "code",
   "execution_count": 26,
   "metadata": {
    "ExecuteTime": {
     "end_time": "2018-07-10T01:05:33.355554Z",
     "start_time": "2018-07-10T01:05:33.351564Z"
    }
   },
   "outputs": [
    {
     "name": "stdout",
     "output_type": "stream",
     "text": [
      "E:\\gitcode\\Droplet\\mynotebook\n"
     ]
    }
   ],
   "source": [
    "print (os.path.abspath('.'))"
   ]
  },
  {
   "cell_type": "code",
   "execution_count": null,
   "metadata": {},
   "outputs": [],
   "source": []
  }
 ],
 "metadata": {
  "kernelspec": {
   "display_name": "Python 3",
   "language": "python",
   "name": "python3"
  },
  "language_info": {
   "codemirror_mode": {
    "name": "ipython",
    "version": 3
   },
   "file_extension": ".py",
   "mimetype": "text/x-python",
   "name": "python",
   "nbconvert_exporter": "python",
   "pygments_lexer": "ipython3",
   "version": "3.5.3"
  },
  "toc": {
   "base_numbering": 1,
   "nav_menu": {},
   "number_sections": true,
   "sideBar": true,
   "skip_h1_title": false,
   "title_cell": "Table of Contents",
   "title_sidebar": "Contents",
   "toc_cell": false,
   "toc_position": {},
   "toc_section_display": true,
   "toc_window_display": false
  },
  "varInspector": {
   "cols": {
    "lenName": 16,
    "lenType": 16,
    "lenVar": 40
   },
   "kernels_config": {
    "python": {
     "delete_cmd_postfix": "",
     "delete_cmd_prefix": "del ",
     "library": "var_list.py",
     "varRefreshCmd": "print(var_dic_list())"
    },
    "r": {
     "delete_cmd_postfix": ") ",
     "delete_cmd_prefix": "rm(",
     "library": "var_list.r",
     "varRefreshCmd": "cat(var_dic_list()) "
    }
   },
   "position": {
    "height": "404px",
    "left": "717px",
    "right": "20px",
    "top": "130px",
    "width": "694px"
   },
   "types_to_exclude": [
    "module",
    "function",
    "builtin_function_or_method",
    "instance",
    "_Feature"
   ],
   "window_display": false
  }
 },
 "nbformat": 4,
 "nbformat_minor": 2
}
