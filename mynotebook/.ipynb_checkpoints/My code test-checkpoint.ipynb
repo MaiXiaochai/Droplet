{
 "cells": [
  {
   "cell_type": "markdown",
   "metadata": {},
   "source": [
    "### SqlAlchemy"
   ]
  },
  {
   "cell_type": "code",
   "execution_count": 12,
   "metadata": {
    "ExecuteTime": {
     "end_time": "2018-07-04T11:13:02.561298Z",
     "start_time": "2018-07-04T11:13:02.556311Z"
    },
    "scrolled": true
   },
   "outputs": [
    {
     "name": "stdout",
     "output_type": "stream",
     "text": [
      "Writing sqlalchemy_test.py\n"
     ]
    }
   ],
   "source": [
    "%%writefile sqlalchemy_test.py\n",
    "# -*- coding:utf-8 -*-\n",
    "\n",
    "import toml\n",
    "import sqlalchemy\n",
    "from sqlalchemy import create_engine, Column, String,Integer,Table,MetaData,ForeignKey\n",
    "from sqlalchemy.ext.declarative import declarative_base\n",
    "from sqlalchemy.orm import sessionmaker, mapper\n",
    "\n",
    "\n",
    "# 导入配置信息\n",
    "CONF_PATH = './config.toml'\n",
    "conf = toml.load(CONF_PATH, _dict=dict)\n",
    "test_dsn = conf.get('oracle').get('test_dsn')\n",
    "\n",
    "# 创建实例连接数据库\n",
    "engine = create_engine('oracle://{}'.format(test_dsn))\n",
    "\n",
    "conn = engine.connect()\n",
    "res = conn.execute(\"select * from test_a\")\n",
    "for i in res:\n",
    "    print(i)\n",
    "\n",
    "if __name__ == '__main__':\n",
    "    pass"
   ]
  }
 ],
 "metadata": {
  "kernelspec": {
   "display_name": "Python 3",
   "language": "python",
   "name": "python3"
  },
  "language_info": {
   "codemirror_mode": {
    "name": "ipython",
    "version": 3
   },
   "file_extension": ".py",
   "mimetype": "text/x-python",
   "name": "python",
   "nbconvert_exporter": "python",
   "pygments_lexer": "ipython3",
   "version": "3.5.3"
  },
  "toc": {
   "base_numbering": 1,
   "nav_menu": {},
   "number_sections": true,
   "sideBar": true,
   "skip_h1_title": false,
   "title_cell": "Table of Contents",
   "title_sidebar": "Contents",
   "toc_cell": false,
   "toc_position": {},
   "toc_section_display": true,
   "toc_window_display": false
  },
  "varInspector": {
   "cols": {
    "lenName": 16,
    "lenType": 16,
    "lenVar": 40
   },
   "kernels_config": {
    "python": {
     "delete_cmd_postfix": "",
     "delete_cmd_prefix": "del ",
     "library": "var_list.py",
     "varRefreshCmd": "print(var_dic_list())"
    },
    "r": {
     "delete_cmd_postfix": ") ",
     "delete_cmd_prefix": "rm(",
     "library": "var_list.r",
     "varRefreshCmd": "cat(var_dic_list()) "
    }
   },
   "position": {
    "height": "404px",
    "left": "715px",
    "right": "20px",
    "top": "130px",
    "width": "694px"
   },
   "types_to_exclude": [
    "module",
    "function",
    "builtin_function_or_method",
    "instance",
    "_Feature"
   ],
   "window_display": false
  }
 },
 "nbformat": 4,
 "nbformat_minor": 2
}
