{
 "cells": [
  {
   "cell_type": "markdown",
   "metadata": {},
   "source": [
    "# Some daily code test "
   ]
  },
  {
   "cell_type": "code",
   "execution_count": 37,
   "metadata": {},
   "outputs": [
    {
     "name": "stdout",
     "output_type": "stream",
     "text": [
      "flxuser:flxuser@146.91.77.248:1521/testdb\n",
      "(8, 'lee', 12, datetime.datetime(2018, 7, 2, 15, 27, 40), Decimal('3.14'))\n",
      "(1, 'B11', 45, datetime.datetime(2018, 5, 31, 9, 4, 57), None)\n",
      "(2, 'B21', 45, datetime.datetime(2018, 5, 31, 9, 4, 57), None)\n",
      "(3, 'B31', 44, datetime.datetime(2018, 5, 31, 9, 4, 57), None)\n",
      "(4, 'B41', 44, datetime.datetime(2018, 5, 31, 9, 4, 57), None)\n",
      "(5, None, 0, datetime.datetime(2018, 5, 31, 9, 4, 57), None)\n"
     ]
    }
   ],
   "source": [
    "# -*- coding:utf-8 -*-\n",
    "import toml\n",
    "import sqlalchemy\n",
    "from sqlalchemy import create_engine, Column, String,Integer, Table, MetaData,ForeignKey\n",
    "from sqlalchemy.ext.declarative import declarative_base\n",
    "from sqlalchemy.orm import sessionmaker, mapper\n",
    "\n",
    "\n",
    "# 导入配置信息\n",
    "CONF_PATH = './config.toml'\n",
    "conf = toml.load(CONF_PATH, _dict=dict)\n",
    "test_dsn = conf.get('oracle').get('test_dsn')\n",
    "\n",
    "# 创建实例连接数据库\n",
    "engine = create_engine('oracle://{}'.format(test_dsn))\n",
    "\n",
    "conn = engine.connect()\n",
    "res = conn.execute(\"select * from test_a\")\n",
    "for i in res:\n",
    "    print(i)\n",
    "\n",
    "# 创建对象的基类\n",
    "Base = declarative_base()\n",
    "\n",
    "metadata = MetaData()"
   ]
  }
 ],
 "metadata": {
  "kernelspec": {
   "display_name": "Python 3",
   "language": "python",
   "name": "python3"
  },
  "language_info": {
   "codemirror_mode": {
    "name": "ipython",
    "version": 3
   },
   "file_extension": ".py",
   "mimetype": "text/x-python",
   "name": "python",
   "nbconvert_exporter": "python",
   "pygments_lexer": "ipython3",
   "version": "3.5.3"
  }
 },
 "nbformat": 4,
 "nbformat_minor": 2
}
