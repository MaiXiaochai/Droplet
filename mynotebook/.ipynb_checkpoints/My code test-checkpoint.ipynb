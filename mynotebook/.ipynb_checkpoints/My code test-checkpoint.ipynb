{
 "cells": [
  {
   "cell_type": "markdown",
   "metadata": {},
   "source": [
    "# Some daily code test "
   ]
  },
  {
   "cell_type": "code",
   "execution_count": 1,
   "metadata": {},
   "outputs": [
    {
     "data": {
      "text/plain": [
       "1333.3333333333333"
      ]
     },
     "execution_count": 1,
     "metadata": {},
     "output_type": "execute_result"
    }
   ],
   "source": [
    "4000/3"
   ]
  },
  {
   "cell_type": "code",
   "execution_count": 2,
   "metadata": {
    "scrolled": false
   },
   "outputs": [
    {
     "name": "stdout",
     "output_type": "stream",
     "text": [
      "2\n"
     ]
    }
   ],
   "source": [
    "from math import ceil\n",
    "print(ceil(5/3))"
   ]
  },
  {
   "cell_type": "code",
   "execution_count": 6,
   "metadata": {},
   "outputs": [
    {
     "name": "stdout",
     "output_type": "stream",
     "text": [
      "True\n",
      "False\n"
     ]
    }
   ],
   "source": [
    "a = True\n",
    "b = None\n",
    "print(isinstance(a, bool))\n",
    "print(isinstance(b, bool))\n"
   ]
  },
  {
   "cell_type": "code",
   "execution_count": 12,
   "metadata": {},
   "outputs": [
    {
     "name": "stdout",
     "output_type": "stream",
     "text": [
      "500.0\n",
      "<class 'float'>\n"
     ]
    }
   ],
   "source": [
    "a = 0.5 * 1000\n",
    "print(a)\n",
    "print(type(a))"
   ]
  },
  {
   "cell_type": "code",
   "execution_count": 2,
   "metadata": {},
   "outputs": [
    {
     "name": "stdout",
     "output_type": "stream",
     "text": [
      "['76']\n"
     ]
    }
   ],
   "source": [
    "import re\n",
    "col_len_desc = ' x(76)'\n",
    "col_len_re = re.findall(r'.*?\\((\\d+)', col_len_desc)\n",
    "print(col_len_re)"
   ]
  },
  {
   "cell_type": "code",
   "execution_count": 21,
   "metadata": {},
   "outputs": [
    {
     "name": "stdout",
     "output_type": "stream",
     "text": [
      "NUMBER(11)\n"
     ]
    }
   ],
   "source": [
    "col_len = 11\n",
    "data_type = 'NUMBER({})'.format(col_len if col_len > 10 else 10)\n",
    "print(data_type)"
   ]
  },
  {
   "cell_type": "code",
   "execution_count": 31,
   "metadata": {},
   "outputs": [
    {
     "name": "stdout",
     "output_type": "stream",
     "text": [
      "2.1212323232\n"
     ]
    },
    {
     "data": {
      "text/plain": [
       "True"
      ]
     },
     "execution_count": 31,
     "metadata": {},
     "output_type": "execute_result"
    }
   ],
   "source": [
    "a = 2.1212323232\n",
    "b = 2.1212323232\n",
    "print(float(a))\n",
    "a == b"
   ]
  },
  {
   "cell_type": "code",
   "execution_count": 35,
   "metadata": {},
   "outputs": [
    {
     "data": {
      "text/plain": [
       "0.0"
      ]
     },
     "execution_count": 35,
     "metadata": {},
     "output_type": "execute_result"
    }
   ],
   "source": [
    "a = 0.000\n",
    "float(a)"
   ]
  },
  {
   "cell_type": "code",
   "execution_count": 37,
   "metadata": {},
   "outputs": [
    {
     "name": "stdout",
     "output_type": "stream",
     "text": [
      "flxuser:flxuser@146.91.77.248:1521/testdb\n",
      "(8, 'lee', 12, datetime.datetime(2018, 7, 2, 15, 27, 40), Decimal('3.14'))\n",
      "(1, 'B11', 45, datetime.datetime(2018, 5, 31, 9, 4, 57), None)\n",
      "(2, 'B21', 45, datetime.datetime(2018, 5, 31, 9, 4, 57), None)\n",
      "(3, 'B31', 44, datetime.datetime(2018, 5, 31, 9, 4, 57), None)\n",
      "(4, 'B41', 44, datetime.datetime(2018, 5, 31, 9, 4, 57), None)\n",
      "(5, None, 0, datetime.datetime(2018, 5, 31, 9, 4, 57), None)\n"
     ]
    }
   ],
   "source": [
    "# -*- coding:utf-8 -*-\n",
    "import toml\n",
    "import sqlalchemy\n",
    "from sqlalchemy import create_engine, Column, String,Integer, Table, MetaData,ForeignKey\n",
    "from sqlalchemy.ext.declarative import declarative_base\n",
    "from sqlalchemy.orm import sessionmaker, mapper\n",
    "\n",
    "\n",
    "# 导入配置信息\n",
    "CONF_PATH = './config.toml'\n",
    "conf = toml.load(CONF_PATH, _dict=dict)\n",
    "test_dsn = conf.get('oracle').get('test_dsn')\n",
    "\n",
    "# 创建实例连接数据库\n",
    "engine = create_engine('oracle://{}'.format(test_dsn))\n",
    "\n",
    "conn = engine.connect()\n",
    "res = conn.execute(\"select * from test_a\")\n",
    "for i in res:\n",
    "    print(i)\n",
    "\n",
    "# 创建对象的基类\n",
    "Base = declarative_base()\n",
    "\n",
    "metadata = MetaData()"
   ]
  }
 ],
 "metadata": {
  "kernelspec": {
   "display_name": "Python 3",
   "language": "python",
   "name": "python3"
  },
  "language_info": {
   "codemirror_mode": {
    "name": "ipython",
    "version": 3
   },
   "file_extension": ".py",
   "mimetype": "text/x-python",
   "name": "python",
   "nbconvert_exporter": "python",
   "pygments_lexer": "ipython3",
   "version": "3.5.3"
  }
 },
 "nbformat": 4,
 "nbformat_minor": 2
}
