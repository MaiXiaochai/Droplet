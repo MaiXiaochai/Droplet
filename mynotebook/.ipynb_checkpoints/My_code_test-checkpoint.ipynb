{
 "cells": [
  {
   "cell_type": "markdown",
   "metadata": {},
   "source": [
    "### SqlAlchemy"
   ]
  },
  {
   "cell_type": "code",
   "execution_count": 23,
   "metadata": {
    "ExecuteTime": {
     "end_time": "2018-07-05T07:19:11.333086Z",
     "start_time": "2018-07-05T07:19:11.328098Z"
    },
    "scrolled": true
   },
   "outputs": [
    {
     "name": "stdout",
     "output_type": "stream",
     "text": [
      "Overwriting sqlalchemy_test.py\n"
     ]
    }
   ],
   "source": [
    "# -*- coding:utf-8 -*-\n",
    "\n",
    "import toml\n",
    "import sqlalchemy\n",
    "from sqlalchemy import create_engine,Table,MetaData,ForeignKey, Column, String,Integer\n",
    "from sqlalchemy.ext.declarative import declarative_base\n",
    "from sqlalchemy.orm import sessionmaker, mapper\n",
    "\n",
    "\n",
    "class MyORM(object):\n",
    "    def __init__(conf_path):\n",
    "    # 导入配置信息\n",
    "    conf = toml.load(conf_path, _dict=dict)\n",
    "    dsn = 'oracle://' + conf.get('oracle').get('test_dsn')\n",
    "    self.engine = create_engine('{}'.format(dsn))\n",
    "\n",
    "    \n",
    "Base = declarative_base()\n",
    "\n",
    "\n",
    "class TestA(Base):\n",
    "    __tablename__ = 'test_a'\n",
    "    id = Column(Integer)\n",
    "    name = Column(String(100))\n",
    "    counter = Column(Integer(10))\n",
    "    sdate = Column()\n",
    "    \n",
    "# conn = engine.connect()\n",
    "# res = conn.execute(\"select * from test_a\")\n",
    "# for i in res:\n",
    "#     print(i)\n",
    "\n",
    "\n",
    "CONF_PATH = './config.toml'"
   ]
  },
  {
   "cell_type": "code",
   "execution_count": 1,
   "metadata": {
    "ExecuteTime": {
     "end_time": "2018-07-09T03:31:40.813117Z",
     "start_time": "2018-07-09T03:31:40.798126Z"
    }
   },
   "outputs": [
    {
     "name": "stdout",
     "output_type": "stream",
     "text": [
      "oracle_qad\n"
     ]
    },
    {
     "data": {
      "text/plain": [
       "2.0"
      ]
     },
     "execution_count": 1,
     "metadata": {},
     "output_type": "execute_result"
    }
   ],
   "source": [
    "tbl_type = 'qad'\n",
    "config_type = 'oracle' + (\"_\" + tbl_type.lower() if tbl_type is not None else '')\n",
    "print(config_type)\n",
    "2097152 /1024 /1024"
   ]
  },
  {
   "cell_type": "code",
   "execution_count": 23,
   "metadata": {
    "ExecuteTime": {
     "end_time": "2018-07-10T01:05:09.203403Z",
     "start_time": "2018-07-10T01:05:09.199388Z"
    }
   },
   "outputs": [
    {
     "name": "stdout",
     "output_type": "stream",
     "text": [
      ":\\gitcode\\Droplet\\mynotebook\\script\n"
     ]
    }
   ],
   "source": [
    "import os\n",
    "res = os.getcwd()\n",
    "path = './script'\n",
    "win_path = os.getcwd() + path.replace('./', '\\\\')\n",
    "print(win_path[1:])"
   ]
  },
  {
   "cell_type": "code",
   "execution_count": 27,
   "metadata": {
    "ExecuteTime": {
     "end_time": "2018-07-10T01:05:47.050939Z",
     "start_time": "2018-07-10T01:05:47.046969Z"
    }
   },
   "outputs": [
    {
     "data": {
      "text/plain": [
       "'E:\\\\gitcode\\\\Droplet\\\\mynotebook'"
      ]
     },
     "execution_count": 27,
     "metadata": {},
     "output_type": "execute_result"
    }
   ],
   "source": [
    "os.path.abspath('.')"
   ]
  },
  {
   "cell_type": "code",
   "execution_count": 16,
   "metadata": {
    "ExecuteTime": {
     "end_time": "2018-07-13T08:16:54.857125Z",
     "start_time": "2018-07-13T08:16:54.851150Z"
    }
   },
   "outputs": [
    {
     "data": {
      "text/plain": [
       "'[test inserting | 0.89%]'"
      ]
     },
     "execution_count": 16,
     "metadata": {},
     "output_type": "execute_result"
    }
   ],
   "source": [
    "log_orcl = 'test'\n",
    "percent = 0.89\n",
    "a = \"[{} inserting | {:.2}%]\".format(log_orcl, percent if percent < 1 else 1.00)\n",
    "a\n"
   ]
  },
  {
   "cell_type": "code",
   "execution_count": 1,
   "metadata": {
    "ExecuteTime": {
     "end_time": "2018-07-19T05:48:53.845854Z",
     "start_time": "2018-07-19T05:48:53.835881Z"
    }
   },
   "outputs": [
    {
     "data": {
      "text/plain": [
       "'numbers:1111,17,15,f,15.00'"
      ]
     },
     "execution_count": 1,
     "metadata": {},
     "output_type": "execute_result"
    }
   ],
   "source": [
    "\n",
    "m = \"numbers:{0:b},{0:o},{0:d},{0:x},{0:.2f}\".format(15)\n",
    "m"
   ]
  },
  {
   "cell_type": "code",
   "execution_count": 9,
   "metadata": {
    "ExecuteTime": {
     "end_time": "2018-07-19T07:02:34.239479Z",
     "start_time": "2018-07-19T07:02:34.216541Z"
    }
   },
   "outputs": [
    {
     "name": "stdout",
     "output_type": "stream",
     "text": [
      "['bom_mstr', 'cncu_mstr', 'pcd_det', 'txbd_det', 'syps_det', 'rqa_mstr', 'xgold_mstr', 'xc_ctrl', 'xftph_hist', 'is_mstr', 'glt_det', 'qor_mstr', 'gl_ctrl', 'rflotd_det', 'sbid_det', 'vesd_det', 'rfpld_det', 'cls_mstr', 'rfprg_mstr', 'fac_ctrl', 'frzd_det', 'mpp_det', 'defr_det', 'egc_ctrl', 'sca_mstr', 'ckd_det', 'rmd_det', 'pic_ctrl', 'rbm_mstr', 'so_mstr', 'pgm_det', 'sodlc_det', 'knbl_det', 'absd_det', 'mfc_ctrl', 'absc_det', 'ifs_mstr', 'xsod_det', 'sc_mstr', 'an_mstr', 'grcd_det', 'shv_mstr', 'rfrunh_hist', 'rfabs_mstr', 'bkd_det', 'fc_det', 'pjc_ctrl', 'ap_mstr', 'kbtrd_det', 'cph_hist', 'fpd_cost', 'sa_mstr', 'fwk_mstr', 'gimd_mstr', 'rfsrfd_det', 'xsoivh_hist', 'ea_mstr', 'qo_mstr', 'taxd_det', 'itmh_hist', 'cref_mstr', 'dc_mstr', 'grx2_wkfl', 'rma_mstr', 'cont_mstr', 'cslm_mstr', 'rfkb_mstr', 'cr_mstr', 'wlrm_mstr', 'mph_hist', 'pftusrg_mstr', 'comd_det', 'ad_mstr', 'ld_det', 'xxsps_mstr', 'usr_mstr', 'grc_mstr', 'eswpfc_det', 'cc_mstr', 'decl_mstr', 'dy_mstr', 'pcld_det', 'prd_det', 'lng_mstr', 'pld_det', 'rcs_mstr', 'ild_det', 'prj_mstr', 'sodr_det', 'cnss_mstr', 'dpt_mstr', 'escf_ref', 'vtc_ctrl', 'ln_mstr', 'mon_mstr', 'fabk_mstr', 'cas_mstr', 'anl_det', 'dmw_wkfl', 'pr_mstr', 'absl_det', 'pih_hist', 'aud_det', 'ptr_det', 'its_mstr', 'txhd_det', 'ect_mstr', 'loc_mstr', 'rfbin_mstr', 'opm_mstr', 'cnsud_det', 'sdtd_det', 'tot_mstr', 'fsc_mstr', 'plid_det', 'rfpt_mstr', 'xfbom_mstr', 'shpc_ctrl', 'fact_ctrl', 'um_mstr', 'csil_mstr', 'pftusrl_det', 'dald_det', 'pald_det', 'ops_ctrl', 'rsu_mstr', 'csid_det', 'pj_mstr', 'poul_mstr', 'mnd_det', 'mp_mstr', 'adc_ctrl', 'ecx_ref', 'clc_ctrl', 'fn_mstr', 'abs_mstr', 'knbd_det', 'gra_mstr', 'vepd_det', 'fsp3_pln', 'faloc_mstr', 'sr_wkfl', 'tblc_mstr', 'chm_mstr', 'vt_mstr', 'glrd_det', 'kbdt_mstr', 'pfc_det', 'pjs_mstr', 'oa_det', 'rsn_ref', 'com_mstr', 'rfcode_mstr', 'att_mstr', 'knp_mstr', 'fpci_mstr', 'vec_mstr', 'eu_mstr', 'dom_mstr', 'eswpf_det', 'rfprtd_det', 'syp_mstr', 'ctry_mstr', 'esp_mstr', 'sim_det', 'usrg_mstr', 'cil_mstr', 'bdl_mstr', 'rqda_det', 'shp_hist', 'scc_mstr', 'apr_mstr', 'grib_det', 'whl_mstr', 'grqd_det', 'rdf_mstr', 'rfcych_hist', 'rfro_det', 'rfunptyp_mstr', 'pvo_mstr', 'totd_det', 'esc_ctrl', 'acd_det', 'cclsc_mstr', 'knbism_det', 'knbsm_mstr', 'sph_hist', 'tzod_det', 'flscd_det', 'txr_mstr', 'act_mstr', 'gltmd_det', 'qc_mstr', 'dss_mstr', 'ers_mstr', 'facd_det', 'famtr_mstr', 'famtd_det', 'op_hist', 'slrd_det', 'xxcstupd_hist', 'atc_ctrl', 'exru_usage', 'gip_det', 'glct_det', 'sm_mstr', 'cmt_det', 'rfc_ctrl', 'dbs_mstr', 'pvod_det', 'sgcd_det', 'sgid_det', 'ck_mstr', 'eswps_det', 'lnf_det', 'udd_det', 'cm_mstr', 'vee_mstr', 'knbcd_det', 'rstd_det', 'hlp_mstr', 'esaps_det', 'ftch_hist', 'rfqadc_ctrl', 'fis_mstr', 'rfprt_queue', 'src_ctrl', 'grx_mstr', 'escx_det', 'faadj_mstr', 'frcd_det', 'itm_det', 'pq_mstr', 'cb_mstr', 'vd_mstr', 'pgc_ctrl', 'cssi_det', 'esgc_ref', 'alm_mstr', 'vdc_ctrl', 'bc_mstr', 'xxvarwo_mstr', 'glcd_det', 'wlt_mstr', 'rfpkl_mstr', 'plsd_det', 'qoc_ctrl', 'ess_mstr', 'acm_mstr', 'upd_det', 'wlrd_det', 'fp3_plan', 'knbi_mstr', 'sytf_mstr', 'xidh_hist', 'csbd_det', 'grx1_wkfl', 'ccd1_det', 'shpd_hist', 'fcg_mstr', 'rflic_mstr', 'ecd2_det', 'ihr_hist', 'fad_det', 'emsg_mstr', 'flp_plan', 'lpmd_det', 'ro_det', 'ieh_hist', 'pid_det', 'spt_det', 'cd_det', 'flcrh_hist', 'glptr_hist', 'pod_det', 'rflocl_loop', 'seoc_ctrl', 'uslh_hist', 'txc_ctrl', 'kbmd_mstr', 'atak_det', 'rst_mstr', 'wcr_route', 'ccd_mstr', 'dal_mstr', 'aprm_mstr', 'shd_det', 'ar_mstr', 'ecd3_det', 'pigc_det', 'swc_det', 'rflbc_ipl', 'pould_det', 'cctr_hist', 'pts_det', 'ves_mstr', 'knbfd_det', 'reg_mstr', 'umsg_det', 'sosr_mstr', 'rqc_mstr', 'xxcstall_hist', 'atp_det', 'icc_ctrl', 'qad_wkfl', 'te_mstr', 'wlbd_det', 'msg_mstr', 'tr_hist', 'glc_cal', 'escd_det', 'tx2_mstr', 'exr_rate', 'cah_hist', 'ptls_det', 'sbc_mstr', 'dprd_det', 'xsod2_det', 'rful_mstr', 'ssm_mstr', 'rfjis_mstr', 'rsud_det', 'wld_det', 'kbpp_mstr', 'css_mstr', 'fldf_mstr', 'egd_det', 'rfkbcd_det', 'rftr_mstr', 'arsd_det', 'spd_det', 'knb_mstr', 'nrh_hist', 'cksd_det', 'pjsx_det', 'rfaqld_det', 'fabd_det', 'euc_ctrl', 'tag_mstr', 'xfpc_mstr', 'atwk_det', 'fct_mstr', 'sttqd_det', 'xxacct_mstr', 'sg_mstr', 'mnp_det', 'elg_hist', 'fas_ctrl', 'qaddb_ctrl', 'lgs_mstr', 'wlc_ctrl', 'accd_det', 'cncs_mstr', 'attmp_mstr', 'shc_ctrl', 'fpst_mstr', 'cac_ctrl', 'rffg_lbl', 'rfld_det', 'knbdd_mstr', 'iss_mstr', 'pftusr_mstr', 'rfeff_mstr', 'rhd_hist', 'seq_mstr', 'grdf_mtx', 'fnh_hist', 'facl_cal', 'cnc_ctrl', 'rqf_ctrl', 'sro_mstr', 'pfd_det', 'xfm_mstr', 'bkpm_mstr', 'xgt_ctrl', 'rfopp_mstr', 'xxsbom_mstr', 'sosrd_det', 'stx_mstr', 'crc_ctrl', 'rfpkld_det', 'bdp_det', 'lotw_wkfl', 'rflot_hist', 'img_msg', 'egw_wkfl', 'rflbcd_det', 'csa_mstr', 'abscc_det', 'slr_mstr', 'ufd_det', 'xgtd_hist', 'isb_mstr', 'dsd_det', 'rps_mstr', 'esapf_det', 'sor_mstr', 'cild_det', 'rfpk_det', 'spc_ctrl', 'pta_det', 'csc_mstr', 'fsp1_pln', 'frm_mstr', 'lad_det', 'qob_det', 'rfkbd_det', 'sadh_hist', 'grhd_det', 'vp_mstr', 'cct_mstr', 'rfprh_hist', 'bcd_det', 'ls_mstr', 'tblcd_det', 'rfkbcs_scan', 'rfbind_det', 'txe_mstr', 'cp_mstr', 'usrl_det', 'lcap_hist', 'apm_ctrl', 'pp_plan', 'opgl_det', 'pou_mstr', 'dpc_mstr', 'cclscd_det', 'xxvarct_hist', 'rfifoc_ctrl', 'gri_mstr', 'co_ctrl', 'shtr_det', 'encd_det', 'scx_ref', 'ecl_list', 'trgl_det', 'xcf_mstr', 'cal_det', 'rfsrfpk_hist', 'atdc_mstr', 'ecd5_det', 'facld_det', 'lac_ctrl', 'pac_mstr', 'sal_mstr', 'srr_mstr', 'opc_ctrl', 'vpo_det', 'edlg_hist', 'fcc_mstr', 'lpm_mstr', 'escat_mstr', 'rcsx_ref', 'cfc_ctrl', 'eswpfil_det', 'ard_det', 'idh_hist', 'cpcd_det', 'rqm_mstr', 'pal_mstr', 'fabchd_det', 'ied_det', 'iro_det', 'xcf2_mstr', 'grrd_det', 'rqcd_det', 'grr_mstr', 'rfkbl_det', 'wl_mstr', 'wo_mstr', 'cs_mstr', 'lblc_ctrl', 'pct_mstr', 'xcb_mstr', 'esap_mstr', 'wr_route', 'rfrunm_msg', 'fcs_sum', 'cnsu_mstr', 'pfaud_hist', 'mnt_det', 'sgad_det', 'ptc_det', 'atd_mstr', 'sttq_mstr', 'rfsrf_mstr', 'iph_hist', 'mpd_det', 'esapfil_det', 'glr_mstr', 'uspw_hist', 'flpw_mstr', 'ie_mstr', 'iraw_det', 'qcc_ctrl', 'cu_mstr', 'lc_mstr', 'lacd_det', 'cncix_mstr', 'atgt_ref', 'url_mstr', 'esh_mstr', 'rfrunc_ctrl', 'grtx_det', 'si_mstr', 'six_ref', 'fpc_mstr', 'typ_mstr', 'wc_mstr', 'es_mstr', 'xgth_hist', 'knbrs_mstr', 'apmr_mstr', 'fslp_pln', 'ih_hist', 'acdf_mstr', 'bkad_det', 'lngd_det', 'rfifo_log', 'fcd_mstr', 'soc_ctrl', 'emap_det', 'ast_mstr', 'rflad_det', 'sbic_ctl', 'ver_mstr', 'glsd_mstr', 'imap_det', 'drp_ctrl', 'ins_mstr', 'suf_mstr', 'frd_det', 'grid_det', 'txz_mstr', 'vo_mstr', 'wtx_mstr', 'sap_det', 'rftrh_hist', 'pfwo_det', 'usrw_wkfl', 'sad_det', 'socc_mstr', 'abd_det', 'ca_mstr', 'vecd_det', 'maxt_det', 'shm_mstr', 'xcf1_mstr', 'eswpmp_ref', 'mfsd_det', 'giap_mstr', 'gric_det', 'sp_mstr', 'cmd_det', 'djr_mstr', 'fr_mstr', 'rfpc_ctrl', 'ivs_ctrl', 'aterr_mstr', 'pc_mstr', 'atg_mstr', 'faba_det', 'atdcd_det', 'fal_mstr', 'gr_ctrl', 'xen_mstr', 'trl_mstr', 'ecd_det', 'xglh_hist', 'rflr_reg', 'plt_det', 'kbc_ctrl', 'xcft_det', 'eswpfs_det', 'eud_det', 'xsod2h_hist', 'rsd_det', 'rqd_det', 'rftrd_det', 'ecd1_det', 'et_ctrl', 'sop_det', 'txed_det', 'ecd9_det', 'rfkbc_mstr', 'ac_mstr', 'esapfc_det', 'rqm_det', 'xsod1_det', 'svc_ctrl', 'rf_wkfl', 'pftudd_det', 'adx_det', 'idhr_hist', 'pjsh_hist', 'ps_mstr', 'usrc_ctrl', 'xsodh_hist', 'rfaql_mstr', 'knpd_det', 'lgsi_det', 'xac_mstr', 'xcfp_ctrl', 'rfmmc_ctrl', 'excd_det', 'lvr_det', 'pigp_det', 'isvc_mstr', 'rftrs_mstr', 'xsod1h_hist', 'lnd_det', 'salh_hist', 'ds_det', 'qod_det', 'flsd_det', 'qro_det', 'flff_mstr', 'qqc_ctrl', 'apc_ctrl', 'cmc_ctrl', 'rcc_mstr', 'ccc_ctrl', 'itsd_det', 'xftp_mstr', 'mps_mstr', 'bg_mstr', 'mfrel_mstr', 'mu_mstr', 'rfiqcc_ctrl', 'bic_ctrl', 'rfiqcd_det', 'sfh_hist', 'mof_mstr', 'pin_mstr', 'pex_mstr', 'ptt_det', 'tzo_mstr', 'sypd_det', 'qps_det', 'rqh_hist', 'dyd_mstr', 'fp1_plan', 'verd_det', 'sdt_mstr', 'fh_mstr', 'sah_hist', 'locc_det', 'rfdn_ctrl', 'schd_det', 'isd_det', 'cnt_mstr', 'rfjisd_det', 'fsh_mstr', 'rfhd_ctrl', 'ba_mstr', 'anx_det', 'pli_mstr', 'bdld_det', 'esig_mstr', 'pl_mstr', 'vef_ctrl', 'vep_mstr', 'vdf_mstr', 'ans_det', 'bkpd_det', 'bl_ctrl', 'rql_mstr', 'sod_det', 'sv_mstr', 'xach_hist', 'ma_mstr', 'rfpkg_mstr', 'rfkper_mstr', 'qcd_det', 'xftpp_mstr', 'rfcl_mstr', 'btb_det', 'ald_det', 'rfifow_wkfl', 'pig_mstr', 'rfjisa_det', 'absi_mstr', 'eraw_det', 'ibh_hist', 'rs_mstr', 'acod_mstr', 'grac_det', 'sch_mstr', 'mrpc_ctrl', 'eca_mstr', 'ff_mstr', 'vph_hist', 'xcftr_hist', 'rflbl_queue', 'egs_det', 'hd_mstr', 'rfiqc_mstr', 'xfpcv_mstr', 'chg_mstr', 'wod_det', 'emg_msg', 'ihcc_hist', 'xxpc_mstr', 'ccls_mstr', 'pth_hist', 'facls_mstr', 'atwp_mstr', 'pftusrgd_det', 'caq_mstr', 'max_mstr', 'gisi_mstr', 'shft_det', 'fm_mstr', 'fsp2_pln', 'tax_mstr', 'ct_mstr', 'sab_det', 'rfjisr_det', 'esrec_det', 'wlbm_mstr', 'dbk_mstr', 'cnsix_mstr', 'cmf_mstr', 'sar_mstr', 'arc_ctrl', 'gras_det', 'bk_mstr', 'ilg_hist', 'eswp_mstr', 'pcc_ctrl', 'rsc_ctrl', 'rcsd_det', 'flsc_mstr', 'mrpp_det', 'xxcstctrl_file', 'cns_ctrl', 'xglt_det', 'ncc_ctrl', 'rfsrfb_bill', 'fa_act_hist', 'tm_mstr', 'woc_ctrl', 'fab_det', 'famt_mstr', 'fkt_mstr', 'qtbl_ext', 'ib_det', 'pk_det', 'ft_mstr', 'grit_wkf', 'sac_ctrl', 'rnd_mstr', 'tx2d_det', 'rfloc_mstr', 'asc_mstr', 'iec_ctrl', 'rqj_mstr', 'gral_det', 'sbd_det', 'txrd_det', 'trld_det', 'qcs_mstr', 'ccl_ctrl', 'esapmp_ref', 'egt_mstr', 'al_mstr', 'eng_mstr', 'gltr_hist', 'lot_mstr', 'pgh_hist', 'idhlc_hist', 'usrgd_det', 'pshc_ctrl', 'vex_mstr', 'fauop_det', 'csld_det', 'en_mstr', 'flh_mstr', 'code_mstr', 'po_mstr', 'art_mstr', 'ptv_det', 'vew_mstr', 'usg_det', 'abss_det', 'knbs_det', 'pt_mstr', 'ipd_det', 'rfoqc_mstr', 'bkfm_mstr', 'exc_mstr', 'in_mstr', 'knbadc_hist', 'gltm_mstr', 'ocm_mstr', 'pcl_mstr', 'pftusg_det', 'im_mstr', 'rqr_mstr', 'grx3_wkfl', 'grig_mtx', 'emc_ctrl', 'cf_mstr', 'pjt_mstr', 'cpc_mstr', 'rqpo_ref', 'trcs_det', 'pi_mstr', 'pftusrc_ctrl', 'rfpoc_ctrl', 'ptp_det', 'nr_mstr', 'sb_mstr', 'glec_det', 'rfpack_mstr', 'djrc_det', 'em_mstr', 'emp_mstr', 'hwm_det', 'xxvarht_det', 'xfpch_hist', 'dsr_mstr', 'ecd4_det', 'ega_mstr', 'esfil_mstr', 'poc_ctrl', 'ecm_mstr', 'sct_det', 'isp_mstr', 'sd_mstr', 'sypj_det', 'vod_det', 'sbi_mstr', 'rfbar_ctrl', 'cmh_hist', 'fa_mstr', 'fabch_mstr', 'rcf_ctrl', 'qodr_det', 'qr_test', 'insd_det', 'shop_cal', 'ind_det', 'atap_mstr', 'cdf_mstr', 'fnd_det', 'mrp_det', 'sfb_det', 'ccd2_det', 'ssd_det', 'delt_mstr', 'csim_mstr', 'esapfs_det', 'gltw_wkfl', 'grv_det', 'fsd_det', 'rfldh_hist', 'ptqa_det', 'sufd_det', 'absr_det', 'fadf_mstr', 'dpr_mstr', 'rq_mstr', 'flcr_mstr', 'rmc_ctrl', 'req_det', 'grad_det', 'fsu_mstr', 'cncud_det', 'trq_mstr', 'cost_cal', 'dprt_det', 'ip_mstr', 'prh_hist', 'famtrd_det', 'sob_det', 'kbtr_hist', 'ctd_det', 'rpc_ctrl', 'bgd_det', 'df_mstr', 'xih_hist', 'cst_mstr', 'grbg_det', 'vrc_ctrl', 'acx_mstr', 'sroc_ctrl', 'lua_det', 'tbl_mstr', 'rfcld_det', 'rfc3_ctrl', 'pjd_det', 'lna_det', 'fp2_plan']\n"
     ]
    }
   ],
   "source": [
    "lis1 = ['abd_det', 'abs_mstr', 'absc_det', 'abscc_det', 'absd_det', 'absi_mstr', 'absl_det', 'absr_det', 'abss_det', 'ac_mstr', 'accd_det', 'acd_det', 'acdf_mstr', 'acm_mstr', 'acod_mstr', 'act_mstr', 'acx_mstr', 'ad_mstr', 'adc_ctrl', 'adx_det', 'al_mstr', 'ald_det', 'alm_mstr', 'an_mstr', 'anl_det', 'ans_det', 'anx_det', 'ap_mstr', 'apc_ctrl', 'apm_ctrl', 'apmr_mstr', 'apr_mstr', 'aprm_mstr', 'ar_mstr', 'arc_ctrl', 'ard_det', 'arsd_det', 'art_mstr', 'asc_mstr', 'ast_mstr', 'atak_det', 'atap_mstr', 'atc_ctrl', 'atd_mstr', 'atdc_mstr', 'atdcd_det', 'aterr_mstr', 'atg_mstr', 'atgt_ref', 'atp_det', 'att_mstr', 'attmp_mstr', 'atwk_det', 'atwp_mstr', 'aud_det', 'ba_mstr', 'bc_mstr', 'bcd_det', 'bdl_mstr', 'bdld_det', 'bdp_det', 'bg_mstr', 'bgd_det', 'bic_ctrl', 'bk_mstr', 'bkad_det', 'bkd_det', 'bkfm_mstr', 'bkpd_det', 'bkpm_mstr', 'bl_ctrl', 'bom_mstr', 'btb_det', 'ca_mstr', 'cac_ctrl', 'cah_hist', 'cal_det', 'caq_mstr', 'cas_mstr', 'cb_mstr', 'cc_mstr', 'ccc_ctrl', 'ccd1_det', 'ccd2_det', 'ccd_mstr', 'ccl_ctrl', 'ccls_mstr', 'cclsc_mstr', 'cclscd_det', 'cct_mstr', 'cctr_hist', 'cd_det', 'cdf_mstr', 'cf_mstr', 'cfc_ctrl', 'chg_mstr', 'chm_mstr', 'cil_mstr', 'cild_det', 'ck_mstr', 'ckd_det', 'cksd_det', 'clc_ctrl', 'cls_mstr', 'cm_mstr', 'cmc_ctrl', 'cmd_det', 'cmf_mstr', 'cmh_hist', 'cmt_det', 'cnc_ctrl', 'cncix_mstr', 'cncs_mstr', 'cncu_mstr', 'cncud_det', 'cns_ctrl', 'cnsix_mstr', 'cnss_mstr', 'cnsu_mstr', 'cnsud_det', 'cnt_mstr', 'co_ctrl', 'code_mstr', 'com_mstr', 'comd_det', 'cont_mstr', 'cost_cal', 'cp_mstr', 'cpc_mstr', 'cpcd_det', 'cph_hist', 'cr_mstr', 'crc_ctrl', 'cref_mstr', 'cs_mstr', 'csa_mstr', 'csbd_det', 'csc_mstr', 'csid_det', 'csil_mstr', 'csim_mstr', 'csld_det', 'cslm_mstr', 'css_mstr', 'cssi_det', 'cst_mstr', 'ct_mstr', 'ctd_det', 'ctry_mstr', 'cu_mstr', 'dal_mstr', 'dald_det', 'dbk_mstr', 'dbs_mstr', 'dc_mstr', 'decl_mstr', 'defr_det', 'delt_mstr', 'df_mstr', 'djr_mstr', 'djrc_det', 'dmw_wkfl', 'dom_mstr', 'dpc_mstr', 'dpr_mstr', 'dprd_det', 'dprt_det', 'dpt_mstr', 'drp_ctrl', 'ds_det', 'dsd_det', 'dsr_mstr', 'dss_mstr', 'dy_mstr', 'dyd_mstr', 'ea_mstr', 'eca_mstr', 'ecd1_det', 'ecd2_det', 'ecd3_det', 'ecd4_det', 'ecd5_det', 'ecd9_det', 'ecd_det', 'ecl_list', 'ecm_mstr', 'ect_mstr', 'ecx_ref', 'edlg_hist', 'ega_mstr', 'egc_ctrl', 'egd_det', 'egs_det', 'egt_mstr', 'egw_wkfl', 'elg_hist', 'em_mstr', 'emap_det', 'emc_ctrl', 'emg_msg', 'emp_mstr', 'emsg_mstr', 'en_mstr', 'encd_det', 'eng_mstr', 'eraw_det', 'ers_mstr', 'es_mstr', 'esap_mstr', 'esapf_det', 'esapfc_det', 'esapfil_det', 'esapfs_det', 'esapmp_ref', 'esaps_det', 'esc_ctrl', 'escat_mstr', 'escd_det', 'escf_ref', 'escx_det', 'esfil_mstr', 'esgc_ref', 'esh_mstr', 'esig_mstr', 'esp_mstr', 'esrec_det', 'ess_mstr', 'eswp_mstr', 'eswpf_det', 'eswpfc_det', 'eswpfil_det', 'eswpfs_det', 'eswpmp_ref', 'eswps_det', 'et_ctrl', 'eu_mstr', 'euc_ctrl', 'eud_det', 'exc_mstr', 'excd_det', 'exr_rate', 'exru_usage', 'fa_act_hist', 'fa_mstr', 'faadj_mstr', 'fab_det', 'faba_det', 'fabch_mstr', 'fabchd_det', 'fabd_det', 'fabk_mstr', 'fac_ctrl', 'facd_det', 'facl_cal', 'facld_det', 'facls_mstr', 'fact_ctrl', 'fad_det', 'fadf_mstr', 'fal_mstr', 'faloc_mstr', 'famt_mstr', 'famtd_det', 'famtr_mstr', 'famtrd_det', 'fas_ctrl', 'fauop_det', 'fc_det', 'fcc_mstr', 'fcd_mstr', 'fcg_mstr', 'fcs_sum', 'fct_mstr', 'ff_mstr', 'fh_mstr', 'fis_mstr', 'fkt_mstr', 'flcr_mstr', 'flcrh_hist', 'fldf_mstr', 'flff_mstr', 'flh_mstr', 'flp_plan', 'flpw_mstr', 'flsc_mstr', 'flscd_det', 'flsd_det', 'fm_mstr', 'fn_mstr', 'fnd_det', 'fnh_hist', 'fp1_plan', 'fp2_plan', 'fp3_plan', 'fpc_mstr', 'fpci_mstr', 'fpd_cost', 'fpst_mstr', 'fr_mstr', 'frcd_det', 'frd_det', 'frm_mstr', 'frzd_det', 'fsc_mstr', 'fsd_det', 'fsh_mstr', 'fslp_pln', 'fsp1_pln', 'fsp2_pln', 'fsp3_pln', 'fsu_mstr', 'ft_mstr', 'ftch_hist', 'fwk_mstr', 'giap_mstr', 'gimd_mstr', 'gip_det', 'gisi_mstr', 'gl_ctrl', 'glc_cal', 'glcd_det', 'glct_det', 'glec_det', 'glptr_hist', 'glr_mstr', 'glrd_det', 'glsd_mstr', 'glt_det', 'gltm_mstr', 'gltmd_det', 'gltr_hist', 'gltw_wkfl', 'gr_ctrl', 'gra_mstr', 'grac_det', 'grad_det', 'gral_det', 'gras_det', 'grbg_det', 'grc_mstr', 'grcd_det', 'grdf_mtx', 'grhd_det', 'gri_mstr', 'grib_det', 'gric_det', 'grid_det', 'grig_mtx', 'grit_wkf', 'grqd_det', 'grr_mstr', 'grrd_det', 'grtx_det', 'grv_det', 'grx1_wkfl', 'grx2_wkfl', 'grx3_wkfl', 'grx_mstr', 'hd_mstr', 'hlp_mstr', 'hwm_det', 'ib_det', 'ibh_hist', 'icc_ctrl', 'idh_hist', 'idhlc_hist', 'idhr_hist', 'ie_mstr', 'iec_ctrl', 'ied_det', 'ieh_hist', 'ifs_mstr', 'ih_hist', 'ihcc_hist', 'ihr_hist', 'ild_det', 'ilg_hist', 'im_mstr', 'imap_det', 'img_msg', 'in_mstr', 'ind_det', 'ins_mstr', 'insd_det', 'ip_mstr', 'ipd_det', 'iph_hist', 'iraw_det', 'iro_det', 'is_mstr', 'isb_mstr', 'isd_det', 'isp_mstr', 'iss_mstr', 'isvc_mstr', 'itm_det', 'itmh_hist', 'its_mstr', 'itsd_det', 'ivs_ctrl', 'kbc_ctrl', 'kbdt_mstr', 'kbmd_mstr', 'kbpp_mstr', 'kbtr_hist', 'kbtrd_det', 'knb_mstr', 'knbadc_hist', 'knbcd_det', 'knbd_det', 'knbdd_mstr', 'knbfd_det', 'knbi_mstr', 'knbism_det', 'knbl_det', 'knbrs_mstr', 'knbs_det', 'knbsm_mstr', 'knp_mstr', 'knpd_det', 'lac_ctrl', 'lacd_det', 'lad_det', 'lblc_ctrl', 'lc_mstr', 'lcap_hist', 'ld_det', 'lgs_mstr', 'lgsi_det', 'ln_mstr', 'lna_det', 'lnd_det', 'lnf_det', 'lng_mstr', 'lngd_det', 'loc_mstr', 'locc_det', 'lot_mstr', 'lotw_wkfl', 'lpm_mstr', 'lpmd_det', 'ls_mstr', 'lua_det', 'lvr_det', 'ma_mstr', 'max_mstr', 'maxt_det', 'mfc_ctrl', 'mfrel_mstr', 'mfsd_det', 'mnd_det', 'mnp_det', 'mnt_det', 'mof_mstr', 'mon_mstr', 'mp_mstr', 'mpd_det', 'mph_hist', 'mpp_det', 'mps_mstr', 'mrp_det', 'mrpc_ctrl', 'mrpp_det', 'msg_mstr', 'mu_mstr', 'ncc_ctrl', 'nr_mstr', 'nrh_hist', 'oa_det', 'ocm_mstr', 'op_hist', 'opc_ctrl', 'opgl_det', 'opm_mstr', 'ops_ctrl', 'pac_mstr', 'pal_mstr', 'pald_det', 'pc_mstr', 'pcc_ctrl', 'pcd_det', 'pcl_mstr', 'pcld_det', 'pct_mstr', 'pex_mstr', 'pfc_det', 'pfd_det', 'pgc_ctrl', 'pgh_hist', 'pgm_det', 'pi_mstr', 'pic_ctrl', 'pid_det', 'pig_mstr', 'pigc_det', 'pigp_det', 'pih_hist', 'pin_mstr', 'pj_mstr', 'pjc_ctrl', 'pjd_det', 'pjs_mstr', 'pjsh_hist', 'pjsx_det', 'pjt_mstr', 'pk_det', 'pl_mstr', 'pld_det', 'pli_mstr', 'plid_det', 'plsd_det', 'plt_det', 'po_mstr', 'poc_ctrl', 'pod_det', 'pou_mstr', 'poul_mstr', 'pould_det', 'pp_plan', 'pq_mstr', 'pr_mstr', 'prd_det', 'prh_hist', 'prj_mstr', 'ps_mstr', 'pshc_ctrl', 'pt_mstr', 'pta_det', 'ptc_det', 'pth_hist', 'ptls_det', 'ptp_det', 'ptqa_det', 'ptr_det', 'pts_det', 'ptt_det', 'ptv_det', 'pvo_mstr', 'pvod_det', 'qad_wkfl', 'qaddb_ctrl', 'qc_mstr', 'qcc_ctrl', 'qcd_det', 'qcs_mstr', 'qo_mstr', 'qob_det', 'qoc_ctrl', 'qod_det', 'qodr_det', 'qor_mstr', 'qps_det', 'qqc_ctrl', 'qr_test', 'qro_det', 'qtbl_ext', 'rbm_mstr', 'rcc_mstr', 'rcf_ctrl', 'rcs_mstr', 'rcsd_det', 'rcsx_ref', 'rdf_mstr', 'reg_mstr', 'req_det', 'rhd_hist', 'rma_mstr', 'rmc_ctrl', 'rmd_det', 'rnd_mstr', 'ro_det', 'rpc_ctrl', 'rps_mstr', 'rq_mstr', 'rqa_mstr', 'rqc_mstr', 'rqcd_det', 'rqd_det', 'rqda_det', 'rqf_ctrl', 'rqh_hist', 'rqj_mstr', 'rql_mstr', 'rqm_det', 'rqm_mstr', 'rqpo_ref', 'rqr_mstr', 'rs_mstr', 'rsc_ctrl', 'rsd_det', 'rsn_ref', 'rst_mstr', 'rstd_det', 'rsu_mstr', 'rsud_det', 'sa_mstr', 'sab_det', 'sac_ctrl', 'sad_det', 'sadh_hist', 'sah_hist', 'sal_mstr', 'salh_hist', 'sap_det', 'sar_mstr', 'sb_mstr', 'sbc_mstr', 'sbd_det', 'sbi_mstr', 'sbic_ctl', 'sbid_det', 'sc_mstr', 'sca_mstr', 'scc_mstr', 'sch_mstr', 'schd_det', 'sct_det', 'scx_ref', 'sd_mstr', 'sdt_mstr', 'sdtd_det', 'seoc_ctrl', 'seq_mstr', 'sfb_det', 'sfh_hist', 'sg_mstr', 'sgad_det', 'sgcd_det', 'sgid_det', 'shc_ctrl', 'shd_det', 'shft_det', 'shm_mstr', 'shop_cal', 'shp_hist', 'shpc_ctrl', 'shpd_hist', 'shtr_det', 'shv_mstr', 'si_mstr', 'sim_det', 'six_ref', 'slr_mstr', 'slrd_det', 'sm_mstr', 'so_mstr', 'sob_det', 'soc_ctrl', 'socc_mstr', 'sod_det', 'sodlc_det', 'sodr_det', 'sop_det', 'sor_mstr', 'sosr_mstr', 'sosrd_det', 'sp_mstr', 'spc_ctrl', 'spd_det', 'sph_hist', 'spt_det', 'sr_wkfl', 'src_ctrl', 'sro_mstr', 'sroc_ctrl', 'srr_mstr', 'ssd_det', 'ssm_mstr', 'sttq_mstr', 'sttqd_det', 'stx_mstr', 'suf_mstr', 'sufd_det', 'sv_mstr', 'svc_ctrl', 'swc_det', 'syp_mstr', 'sypd_det', 'sypj_det', 'syps_det', 'sytf_mstr', 'tag_mstr', 'tax_mstr', 'taxd_det', 'tbl_mstr', 'tblc_mstr', 'tblcd_det', 'te_mstr', 'tm_mstr', 'tot_mstr', 'total', 'totd_det', 'tr_hist', 'trcs_det', 'trgl_det', 'trl_mstr', 'trld_det', 'trq_mstr', 'tx2_mstr', 'tx2d_det', 'txbd_det', 'txc_ctrl', 'txe_mstr', 'txed_det', 'txhd_det', 'txr_mstr', 'txrd_det', 'txz_mstr', 'typ_mstr', 'tzo_mstr', 'tzod_det', 'udd_det', 'ufd_det', 'um_mstr', 'umsg_det', 'upd_det', 'url_mstr', 'usg_det', 'uslh_hist', 'uspw_hist', 'usr_mstr', 'usrc_ctrl', 'usrg_mstr', 'usrgd_det', 'usrl_det', 'usrw_wkfl', 'vd_mstr', 'vdc_ctrl', 'vdf_mstr', 'vec_mstr', 'vecd_det', 'vee_mstr', 'vef_ctrl', 'vep_mstr', 'vepd_det', 'ver_mstr', 'verd_det', 'ves_mstr', 'vesd_det', 'vew_mstr', 'vex_mstr', 'vo_mstr', 'vod_det', 'vp_mstr', 'vph_hist', 'vpo_det', 'vrc_ctrl', 'vt_mstr', 'vtc_ctrl', 'wc_mstr', 'wcr_route', 'whl_mstr', 'wl_mstr', 'wlbd_det', 'wlbm_mstr', 'wlc_ctrl', 'wld_det', 'wlrd_det', 'wlrm_mstr', 'wlt_mstr', 'wo_mstr', 'woc_ctrl', 'wod_det', 'wr_route', 'wtx_mstr', 'xac_mstr', 'xach_hist', 'xc_ctrl', 'xcb_mstr', 'xcf1_mstr', 'xcf2_mstr', 'xcf_mstr', 'xcfp_ctrl', 'xcft_det', 'xcftr_hist', 'xen_mstr', 'xfm_mstr', 'xglh_hist', 'xglt_det', 'xgold_mstr', 'xgt_ctrl', 'xgtd_hist', 'xgth_hist', 'xidh_hist', 'xih_hist', 'xsod1_det', 'xsod1h_hist', 'xsod2_det', 'xsod2h_hist', 'xsod_det', 'xsodh_hist', 'xsoivh_hist', 'xxacct_mstr', 'xxcstall_hist', 'xxcstctrl_file', 'xxcstupd_hist', 'xxpc_mstr', 'xxsbom_mstr', 'xxsps_mstr', 'xxvarct_hist', 'xxvarht_det', 'xxvarwo_mstr']\n",
    "lis2 = ['pfaud_hist', 'pftudd_det', 'pftusg_det', 'pftusr_mstr', 'pftusrc_ctrl', 'pftusrg_mstr', 'pftusrgd_det', 'pftusrl_det', 'pfwo_det', 'rf_wkfl', 'rfabs_mstr', 'rfaql_mstr', 'rfaqld_det', 'rfbar_ctrl', 'rfbin_mstr', 'rfbind_det', 'rfc3_ctrl', 'rfc_ctrl', 'rfcl_mstr', 'rfcld_det', 'rfcode_mstr', 'rfcych_hist', 'rfdn_ctrl', 'rfeff_mstr', 'rffg_lbl', 'rfhd_ctrl', 'rfifo_log', 'rfifoc_ctrl', 'rfifow_wkfl', 'rfiqc_mstr', 'rfiqcc_ctrl', 'rfiqcd_det', 'rfjis_mstr', 'rfjisa_det', 'rfjisd_det', 'rfjisr_det', 'rfkb_mstr', 'rfkbc_mstr', 'rfkbcd_det', 'rfkbcs_scan', 'rfkbd_det', 'rfkbl_det', 'rfkper_mstr', 'rflad_det', 'rflbc_ipl', 'rflbcd_det', 'rflbl_queue', 'rfld_det', 'rfldh_hist', 'rflic_mstr', 'rfloc_mstr', 'rflocl_loop', 'rflot_hist', 'rflotd_det', 'rflr_reg', 'rfmmc_ctrl', 'rfopp_mstr', 'rfoqc_mstr', 'rfpack_mstr', 'rfpc_ctrl', 'rfpk_det', 'rfpkg_mstr', 'rfpkl_mstr', 'rfpkld_det', 'rfpld_det', 'rfpoc_ctrl', 'rfprg_mstr', 'rfprh_hist', 'rfprt_queue', 'rfprtd_det', 'rfpt_mstr', 'rfqadc_ctrl', 'rfro_det', 'rfrunc_ctrl', 'rfrunh_hist', 'rfrunm_msg', 'rfsrf_mstr', 'rfsrfb_bill', 'rfsrfd_det', 'rfsrfpk_hist', 'rftr_mstr', 'rftrd_det', 'rftrh_hist', 'rftrs_mstr', 'rful_mstr', 'rfunptyp_mstr', 'total', 'xfbom_mstr', 'xfpc_mstr', 'xfpch_hist', 'xfpcv_mstr', 'xftp_mstr', 'xftph_hist', 'xftpp_mstr']\n",
    "lis = list(set(lis1 + lis2))\n",
    "lis.remove('total')\n",
    "print(lis)"
   ]
  },
  {
   "cell_type": "code",
   "execution_count": null,
   "metadata": {},
   "outputs": [],
   "source": []
  }
 ],
 "metadata": {
  "kernelspec": {
   "display_name": "Python 3",
   "language": "python",
   "name": "python3"
  },
  "language_info": {
   "codemirror_mode": {
    "name": "ipython",
    "version": 3
   },
   "file_extension": ".py",
   "mimetype": "text/x-python",
   "name": "python",
   "nbconvert_exporter": "python",
   "pygments_lexer": "ipython3",
   "version": "3.5.3"
  },
  "toc": {
   "base_numbering": 1,
   "nav_menu": {},
   "number_sections": true,
   "sideBar": true,
   "skip_h1_title": false,
   "title_cell": "Table of Contents",
   "title_sidebar": "Contents",
   "toc_cell": false,
   "toc_position": {},
   "toc_section_display": true,
   "toc_window_display": false
  },
  "varInspector": {
   "cols": {
    "lenName": 16,
    "lenType": 16,
    "lenVar": 40
   },
   "kernels_config": {
    "python": {
     "delete_cmd_postfix": "",
     "delete_cmd_prefix": "del ",
     "library": "var_list.py",
     "varRefreshCmd": "print(var_dic_list())"
    },
    "r": {
     "delete_cmd_postfix": ") ",
     "delete_cmd_prefix": "rm(",
     "library": "var_list.r",
     "varRefreshCmd": "cat(var_dic_list()) "
    }
   },
   "position": {
    "height": "404px",
    "left": "717px",
    "right": "20px",
    "top": "130px",
    "width": "694px"
   },
   "types_to_exclude": [
    "module",
    "function",
    "builtin_function_or_method",
    "instance",
    "_Feature"
   ],
   "window_display": false
  }
 },
 "nbformat": 4,
 "nbformat_minor": 2
}
